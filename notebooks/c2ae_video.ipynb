{
 "cells": [
  {
   "cell_type": "code",
   "execution_count": 1,
   "metadata": {},
   "outputs": [
    {
     "name": "stdout",
     "output_type": "stream",
     "text": [
      "cpu\n"
     ]
    }
   ],
   "source": [
    "import sys, os\n",
    "sys.path.append(os.pardir)\n",
    "import numpy as np\n",
    "import matplotlib.pyplot as plt\n",
    "import time\n",
    "import random\n",
    "import torch\n",
    "from torch import nn\n",
    "from common.network import DuelingNetwork\n",
    "from common.hparameter import *"
   ]
  },
  {
   "cell_type": "code",
   "execution_count": 2,
   "metadata": {},
   "outputs": [],
   "source": [
    "\"speed\"\n",
    "speed = \"slow\" # \"slow\", \"equal\" or \"fast\"\n",
    "\n",
    "\"reward\"\n",
    "reward_p = \"indiv\" # \"indiv\" or \"share\""
   ]
  },
  {
   "cell_type": "code",
   "execution_count": 3,
   "metadata": {},
   "outputs": [],
   "source": [
    "\"\"\" seed \"\"\"\n",
    "seed =0\n",
    "np.random.seed(seed)\n",
    "random.seed(seed)\n",
    "torch.manual_seed(seed)\n",
    "torch.cuda.manual_seed(seed)\n",
    "\n",
    "''' divice '''\n",
    "device = torch.device('cuda' if torch.cuda.is_available() else 'cpu')\n",
    "print(device)\n",
    "\n",
    "\"\"\" Network \"\"\"\n",
    "net_p1 = DuelingNetwork(18, 13).to(device)\n",
    "net_p2 = DuelingNetwork(18, 13).to(device)\n",
    "net_e = DuelingNetwork(18, 13).to(device)\n",
    "\n",
    "\"\"\" Environment \"\"\"\n",
    "env_dir = os.path.join(os.pardir, 'c2ae')\n",
    "sys.path.append(env_dir)\n",
    "from chase2_and_escape import Chase2AndEscape\n",
    "\n",
    "if speed == \"fast\":\n",
    "    speed_p = 3.6\n",
    "elif speed == \"equal\":\n",
    "    speed_p = 3.0\n",
    "elif speed == \"slow\":\n",
    "    speed_p = 2.4\n",
    "\n",
    "speed_e = 3\n",
    "max_step_episode = 300\n",
    "env = Chase2AndEscape(speed_pursuer1=speed_p, speed_pursuer2=speed_p, speed_evader=speed_e, max_step=max_step_episode, reward_share=True)\n",
    "\n",
    "\"\"\" Load \"\"\"\n",
    "net_p1.load_state_dict(torch.load(\"../model/c2ae/reward_\" + reward_p + \"/p1_\" +  str (speed_p) + \".pth\")) \n",
    "net_p2.load_state_dict(torch.load(\"../model/c2ae/reward_\" + reward_p + \"/p2_\" +  str (speed_p) + \".pth\")) \n",
    "net_e.load_state_dict(torch.load(\"../model/c2ae/reward_\" + reward_p + \"/e_\" +  str (speed_p) + \".pth\")) \n",
    "\n",
    "\"\"\" No. of episodes \"\"\"\n",
    "num_episodes_test = 10"
   ]
  },
  {
   "cell_type": "code",
   "execution_count": 4,
   "metadata": {},
   "outputs": [],
   "source": [
    "pursuer1_pos_list = []\n",
    "pursuer2_pos_list = []\n",
    "evader_pos_list = []\n",
    "\n",
    "for episode in range(num_episodes_test):\n",
    "    \n",
    "    '''reset'''    \n",
    "    pursuer1_pos_episode = []\n",
    "    pursuer2_pos_episode = []\n",
    "    evader_pos_episode = []\n",
    "    obs_p1, obs_p2, obs_e = env.reset()\n",
    "    obs_p1, obs_p2, obs_e = torch.Tensor(obs_p1), torch.Tensor(obs_p2), torch.Tensor(obs_e)\n",
    "    done = False\n",
    "    step_episode = 0\n",
    "        \n",
    "    while not done:\n",
    "        \n",
    "        action_p1 = net_p1.act(obs_p1.float().to(device), 0)\n",
    "        action_p2 = net_p2.act(obs_p2.float().to(device), 0)\n",
    "        action_e = net_e.act(obs_e.float().to(device), 0)\n",
    "        \n",
    "        next_obs_p1, next_obs_p2, next_obs_e, reward_p1, reward_p2, reward_e, done = env.step(action_p1, action_p2, action_e, step_episode)\n",
    "        next_obs_p1, next_obs_p2, next_obs_e = torch.Tensor(next_obs_p1), torch.Tensor(next_obs_p2), torch.Tensor(next_obs_e)\n",
    "                \n",
    "        obs_p1 = next_obs_p1\n",
    "        obs_p2 = next_obs_p2\n",
    "        obs_e = next_obs_e\n",
    "        \n",
    "        step_episode += 1        \n",
    "        pos_pursuer1 = env.pos_p1\n",
    "        pos_pursuer2 = env.pos_p2\n",
    "        pos_evader = env.pos_e\n",
    "        pursuer1_pos_episode.append(pos_pursuer1)\n",
    "        pursuer2_pos_episode.append(pos_pursuer2)\n",
    "        evader_pos_episode.append(pos_evader)\n",
    "    \n",
    "    pursuer1_pos_list.append(pursuer1_pos_episode)\n",
    "    pursuer2_pos_list.append(pursuer2_pos_episode)\n",
    "    evader_pos_list.append(evader_pos_episode)\n",
    "    "
   ]
  },
  {
   "cell_type": "code",
   "execution_count": 5,
   "metadata": {},
   "outputs": [
    {
     "data": {
      "application/javascript": "/* Put everything inside the global mpl namespace */\nwindow.mpl = {};\n\n\nmpl.get_websocket_type = function() {\n    if (typeof(WebSocket) !== 'undefined') {\n        return WebSocket;\n    } else if (typeof(MozWebSocket) !== 'undefined') {\n        return MozWebSocket;\n    } else {\n        alert('Your browser does not have WebSocket support. ' +\n              'Please try Chrome, Safari or Firefox ≥ 6. ' +\n              'Firefox 4 and 5 are also supported but you ' +\n              'have to enable WebSockets in about:config.');\n    };\n}\n\nmpl.figure = function(figure_id, websocket, ondownload, parent_element) {\n    this.id = figure_id;\n\n    this.ws = websocket;\n\n    this.supports_binary = (this.ws.binaryType != undefined);\n\n    if (!this.supports_binary) {\n        var warnings = document.getElementById(\"mpl-warnings\");\n        if (warnings) {\n            warnings.style.display = 'block';\n            warnings.textContent = (\n                \"This browser does not support binary websocket messages. \" +\n                    \"Performance may be slow.\");\n        }\n    }\n\n    this.imageObj = new Image();\n\n    this.context = undefined;\n    this.message = undefined;\n    this.canvas = undefined;\n    this.rubberband_canvas = undefined;\n    this.rubberband_context = undefined;\n    this.format_dropdown = undefined;\n\n    this.image_mode = 'full';\n\n    this.root = $('<div/>');\n    this._root_extra_style(this.root)\n    this.root.attr('style', 'display: inline-block');\n\n    $(parent_element).append(this.root);\n\n    this._init_header(this);\n    this._init_canvas(this);\n    this._init_toolbar(this);\n\n    var fig = this;\n\n    this.waiting = false;\n\n    this.ws.onopen =  function () {\n            fig.send_message(\"supports_binary\", {value: fig.supports_binary});\n            fig.send_message(\"send_image_mode\", {});\n            if (mpl.ratio != 1) {\n                fig.send_message(\"set_dpi_ratio\", {'dpi_ratio': mpl.ratio});\n            }\n            fig.send_message(\"refresh\", {});\n        }\n\n    this.imageObj.onload = function() {\n            if (fig.image_mode == 'full') {\n                // Full images could contain transparency (where diff images\n                // almost always do), so we need to clear the canvas so that\n                // there is no ghosting.\n                fig.context.clearRect(0, 0, fig.canvas.width, fig.canvas.height);\n            }\n            fig.context.drawImage(fig.imageObj, 0, 0);\n        };\n\n    this.imageObj.onunload = function() {\n        fig.ws.close();\n    }\n\n    this.ws.onmessage = this._make_on_message_function(this);\n\n    this.ondownload = ondownload;\n}\n\nmpl.figure.prototype._init_header = function() {\n    var titlebar = $(\n        '<div class=\"ui-dialog-titlebar ui-widget-header ui-corner-all ' +\n        'ui-helper-clearfix\"/>');\n    var titletext = $(\n        '<div class=\"ui-dialog-title\" style=\"width: 100%; ' +\n        'text-align: center; padding: 3px;\"/>');\n    titlebar.append(titletext)\n    this.root.append(titlebar);\n    this.header = titletext[0];\n}\n\n\n\nmpl.figure.prototype._canvas_extra_style = function(canvas_div) {\n\n}\n\n\nmpl.figure.prototype._root_extra_style = function(canvas_div) {\n\n}\n\nmpl.figure.prototype._init_canvas = function() {\n    var fig = this;\n\n    var canvas_div = $('<div/>');\n\n    canvas_div.attr('style', 'position: relative; clear: both; outline: 0');\n\n    function canvas_keyboard_event(event) {\n        return fig.key_event(event, event['data']);\n    }\n\n    canvas_div.keydown('key_press', canvas_keyboard_event);\n    canvas_div.keyup('key_release', canvas_keyboard_event);\n    this.canvas_div = canvas_div\n    this._canvas_extra_style(canvas_div)\n    this.root.append(canvas_div);\n\n    var canvas = $('<canvas/>');\n    canvas.addClass('mpl-canvas');\n    canvas.attr('style', \"left: 0; top: 0; z-index: 0; outline: 0\")\n\n    this.canvas = canvas[0];\n    this.context = canvas[0].getContext(\"2d\");\n\n    var backingStore = this.context.backingStorePixelRatio ||\n\tthis.context.webkitBackingStorePixelRatio ||\n\tthis.context.mozBackingStorePixelRatio ||\n\tthis.context.msBackingStorePixelRatio ||\n\tthis.context.oBackingStorePixelRatio ||\n\tthis.context.backingStorePixelRatio || 1;\n\n    mpl.ratio = (window.devicePixelRatio || 1) / backingStore;\n\n    var rubberband = $('<canvas/>');\n    rubberband.attr('style', \"position: absolute; left: 0; top: 0; z-index: 1;\")\n\n    var pass_mouse_events = true;\n\n    canvas_div.resizable({\n        start: function(event, ui) {\n            pass_mouse_events = false;\n        },\n        resize: function(event, ui) {\n            fig.request_resize(ui.size.width, ui.size.height);\n        },\n        stop: function(event, ui) {\n            pass_mouse_events = true;\n            fig.request_resize(ui.size.width, ui.size.height);\n        },\n    });\n\n    function mouse_event_fn(event) {\n        if (pass_mouse_events)\n            return fig.mouse_event(event, event['data']);\n    }\n\n    rubberband.mousedown('button_press', mouse_event_fn);\n    rubberband.mouseup('button_release', mouse_event_fn);\n    // Throttle sequential mouse events to 1 every 20ms.\n    rubberband.mousemove('motion_notify', mouse_event_fn);\n\n    rubberband.mouseenter('figure_enter', mouse_event_fn);\n    rubberband.mouseleave('figure_leave', mouse_event_fn);\n\n    canvas_div.on(\"wheel\", function (event) {\n        event = event.originalEvent;\n        event['data'] = 'scroll'\n        if (event.deltaY < 0) {\n            event.step = 1;\n        } else {\n            event.step = -1;\n        }\n        mouse_event_fn(event);\n    });\n\n    canvas_div.append(canvas);\n    canvas_div.append(rubberband);\n\n    this.rubberband = rubberband;\n    this.rubberband_canvas = rubberband[0];\n    this.rubberband_context = rubberband[0].getContext(\"2d\");\n    this.rubberband_context.strokeStyle = \"#000000\";\n\n    this._resize_canvas = function(width, height) {\n        // Keep the size of the canvas, canvas container, and rubber band\n        // canvas in synch.\n        canvas_div.css('width', width)\n        canvas_div.css('height', height)\n\n        canvas.attr('width', width * mpl.ratio);\n        canvas.attr('height', height * mpl.ratio);\n        canvas.attr('style', 'width: ' + width + 'px; height: ' + height + 'px;');\n\n        rubberband.attr('width', width);\n        rubberband.attr('height', height);\n    }\n\n    // Set the figure to an initial 600x600px, this will subsequently be updated\n    // upon first draw.\n    this._resize_canvas(600, 600);\n\n    // Disable right mouse context menu.\n    $(this.rubberband_canvas).bind(\"contextmenu\",function(e){\n        return false;\n    });\n\n    function set_focus () {\n        canvas.focus();\n        canvas_div.focus();\n    }\n\n    window.setTimeout(set_focus, 100);\n}\n\nmpl.figure.prototype._init_toolbar = function() {\n    var fig = this;\n\n    var nav_element = $('<div/>');\n    nav_element.attr('style', 'width: 100%');\n    this.root.append(nav_element);\n\n    // Define a callback function for later on.\n    function toolbar_event(event) {\n        return fig.toolbar_button_onclick(event['data']);\n    }\n    function toolbar_mouse_event(event) {\n        return fig.toolbar_button_onmouseover(event['data']);\n    }\n\n    for(var toolbar_ind in mpl.toolbar_items) {\n        var name = mpl.toolbar_items[toolbar_ind][0];\n        var tooltip = mpl.toolbar_items[toolbar_ind][1];\n        var image = mpl.toolbar_items[toolbar_ind][2];\n        var method_name = mpl.toolbar_items[toolbar_ind][3];\n\n        if (!name) {\n            // put a spacer in here.\n            continue;\n        }\n        var button = $('<button/>');\n        button.addClass('ui-button ui-widget ui-state-default ui-corner-all ' +\n                        'ui-button-icon-only');\n        button.attr('role', 'button');\n        button.attr('aria-disabled', 'false');\n        button.click(method_name, toolbar_event);\n        button.mouseover(tooltip, toolbar_mouse_event);\n\n        var icon_img = $('<span/>');\n        icon_img.addClass('ui-button-icon-primary ui-icon');\n        icon_img.addClass(image);\n        icon_img.addClass('ui-corner-all');\n\n        var tooltip_span = $('<span/>');\n        tooltip_span.addClass('ui-button-text');\n        tooltip_span.html(tooltip);\n\n        button.append(icon_img);\n        button.append(tooltip_span);\n\n        nav_element.append(button);\n    }\n\n    var fmt_picker_span = $('<span/>');\n\n    var fmt_picker = $('<select/>');\n    fmt_picker.addClass('mpl-toolbar-option ui-widget ui-widget-content');\n    fmt_picker_span.append(fmt_picker);\n    nav_element.append(fmt_picker_span);\n    this.format_dropdown = fmt_picker[0];\n\n    for (var ind in mpl.extensions) {\n        var fmt = mpl.extensions[ind];\n        var option = $(\n            '<option/>', {selected: fmt === mpl.default_extension}).html(fmt);\n        fmt_picker.append(option);\n    }\n\n    // Add hover states to the ui-buttons\n    $( \".ui-button\" ).hover(\n        function() { $(this).addClass(\"ui-state-hover\");},\n        function() { $(this).removeClass(\"ui-state-hover\");}\n    );\n\n    var status_bar = $('<span class=\"mpl-message\"/>');\n    nav_element.append(status_bar);\n    this.message = status_bar[0];\n}\n\nmpl.figure.prototype.request_resize = function(x_pixels, y_pixels) {\n    // Request matplotlib to resize the figure. Matplotlib will then trigger a resize in the client,\n    // which will in turn request a refresh of the image.\n    this.send_message('resize', {'width': x_pixels, 'height': y_pixels});\n}\n\nmpl.figure.prototype.send_message = function(type, properties) {\n    properties['type'] = type;\n    properties['figure_id'] = this.id;\n    this.ws.send(JSON.stringify(properties));\n}\n\nmpl.figure.prototype.send_draw_message = function() {\n    if (!this.waiting) {\n        this.waiting = true;\n        this.ws.send(JSON.stringify({type: \"draw\", figure_id: this.id}));\n    }\n}\n\n\nmpl.figure.prototype.handle_save = function(fig, msg) {\n    var format_dropdown = fig.format_dropdown;\n    var format = format_dropdown.options[format_dropdown.selectedIndex].value;\n    fig.ondownload(fig, format);\n}\n\n\nmpl.figure.prototype.handle_resize = function(fig, msg) {\n    var size = msg['size'];\n    if (size[0] != fig.canvas.width || size[1] != fig.canvas.height) {\n        fig._resize_canvas(size[0], size[1]);\n        fig.send_message(\"refresh\", {});\n    };\n}\n\nmpl.figure.prototype.handle_rubberband = function(fig, msg) {\n    var x0 = msg['x0'] / mpl.ratio;\n    var y0 = (fig.canvas.height - msg['y0']) / mpl.ratio;\n    var x1 = msg['x1'] / mpl.ratio;\n    var y1 = (fig.canvas.height - msg['y1']) / mpl.ratio;\n    x0 = Math.floor(x0) + 0.5;\n    y0 = Math.floor(y0) + 0.5;\n    x1 = Math.floor(x1) + 0.5;\n    y1 = Math.floor(y1) + 0.5;\n    var min_x = Math.min(x0, x1);\n    var min_y = Math.min(y0, y1);\n    var width = Math.abs(x1 - x0);\n    var height = Math.abs(y1 - y0);\n\n    fig.rubberband_context.clearRect(\n        0, 0, fig.canvas.width / mpl.ratio, fig.canvas.height / mpl.ratio);\n\n    fig.rubberband_context.strokeRect(min_x, min_y, width, height);\n}\n\nmpl.figure.prototype.handle_figure_label = function(fig, msg) {\n    // Updates the figure title.\n    fig.header.textContent = msg['label'];\n}\n\nmpl.figure.prototype.handle_cursor = function(fig, msg) {\n    var cursor = msg['cursor'];\n    switch(cursor)\n    {\n    case 0:\n        cursor = 'pointer';\n        break;\n    case 1:\n        cursor = 'default';\n        break;\n    case 2:\n        cursor = 'crosshair';\n        break;\n    case 3:\n        cursor = 'move';\n        break;\n    }\n    fig.rubberband_canvas.style.cursor = cursor;\n}\n\nmpl.figure.prototype.handle_message = function(fig, msg) {\n    fig.message.textContent = msg['message'];\n}\n\nmpl.figure.prototype.handle_draw = function(fig, msg) {\n    // Request the server to send over a new figure.\n    fig.send_draw_message();\n}\n\nmpl.figure.prototype.handle_image_mode = function(fig, msg) {\n    fig.image_mode = msg['mode'];\n}\n\nmpl.figure.prototype.updated_canvas_event = function() {\n    // Called whenever the canvas gets updated.\n    this.send_message(\"ack\", {});\n}\n\n// A function to construct a web socket function for onmessage handling.\n// Called in the figure constructor.\nmpl.figure.prototype._make_on_message_function = function(fig) {\n    return function socket_on_message(evt) {\n        if (evt.data instanceof Blob) {\n            /* FIXME: We get \"Resource interpreted as Image but\n             * transferred with MIME type text/plain:\" errors on\n             * Chrome.  But how to set the MIME type?  It doesn't seem\n             * to be part of the websocket stream */\n            evt.data.type = \"image/png\";\n\n            /* Free the memory for the previous frames */\n            if (fig.imageObj.src) {\n                (window.URL || window.webkitURL).revokeObjectURL(\n                    fig.imageObj.src);\n            }\n\n            fig.imageObj.src = (window.URL || window.webkitURL).createObjectURL(\n                evt.data);\n            fig.updated_canvas_event();\n            fig.waiting = false;\n            return;\n        }\n        else if (typeof evt.data === 'string' && evt.data.slice(0, 21) == \"data:image/png;base64\") {\n            fig.imageObj.src = evt.data;\n            fig.updated_canvas_event();\n            fig.waiting = false;\n            return;\n        }\n\n        var msg = JSON.parse(evt.data);\n        var msg_type = msg['type'];\n\n        // Call the  \"handle_{type}\" callback, which takes\n        // the figure and JSON message as its only arguments.\n        try {\n            var callback = fig[\"handle_\" + msg_type];\n        } catch (e) {\n            console.log(\"No handler for the '\" + msg_type + \"' message type: \", msg);\n            return;\n        }\n\n        if (callback) {\n            try {\n                // console.log(\"Handling '\" + msg_type + \"' message: \", msg);\n                callback(fig, msg);\n            } catch (e) {\n                console.log(\"Exception inside the 'handler_\" + msg_type + \"' callback:\", e, e.stack, msg);\n            }\n        }\n    };\n}\n\n// from http://stackoverflow.com/questions/1114465/getting-mouse-location-in-canvas\nmpl.findpos = function(e) {\n    //this section is from http://www.quirksmode.org/js/events_properties.html\n    var targ;\n    if (!e)\n        e = window.event;\n    if (e.target)\n        targ = e.target;\n    else if (e.srcElement)\n        targ = e.srcElement;\n    if (targ.nodeType == 3) // defeat Safari bug\n        targ = targ.parentNode;\n\n    // jQuery normalizes the pageX and pageY\n    // pageX,Y are the mouse positions relative to the document\n    // offset() returns the position of the element relative to the document\n    var x = e.pageX - $(targ).offset().left;\n    var y = e.pageY - $(targ).offset().top;\n\n    return {\"x\": x, \"y\": y};\n};\n\n/*\n * return a copy of an object with only non-object keys\n * we need this to avoid circular references\n * http://stackoverflow.com/a/24161582/3208463\n */\nfunction simpleKeys (original) {\n  return Object.keys(original).reduce(function (obj, key) {\n    if (typeof original[key] !== 'object')\n        obj[key] = original[key]\n    return obj;\n  }, {});\n}\n\nmpl.figure.prototype.mouse_event = function(event, name) {\n    var canvas_pos = mpl.findpos(event)\n\n    if (name === 'button_press')\n    {\n        this.canvas.focus();\n        this.canvas_div.focus();\n    }\n\n    var x = canvas_pos.x * mpl.ratio;\n    var y = canvas_pos.y * mpl.ratio;\n\n    this.send_message(name, {x: x, y: y, button: event.button,\n                             step: event.step,\n                             guiEvent: simpleKeys(event)});\n\n    /* This prevents the web browser from automatically changing to\n     * the text insertion cursor when the button is pressed.  We want\n     * to control all of the cursor setting manually through the\n     * 'cursor' event from matplotlib */\n    event.preventDefault();\n    return false;\n}\n\nmpl.figure.prototype._key_event_extra = function(event, name) {\n    // Handle any extra behaviour associated with a key event\n}\n\nmpl.figure.prototype.key_event = function(event, name) {\n\n    // Prevent repeat events\n    if (name == 'key_press')\n    {\n        if (event.which === this._key)\n            return;\n        else\n            this._key = event.which;\n    }\n    if (name == 'key_release')\n        this._key = null;\n\n    var value = '';\n    if (event.ctrlKey && event.which != 17)\n        value += \"ctrl+\";\n    if (event.altKey && event.which != 18)\n        value += \"alt+\";\n    if (event.shiftKey && event.which != 16)\n        value += \"shift+\";\n\n    value += 'k';\n    value += event.which.toString();\n\n    this._key_event_extra(event, name);\n\n    this.send_message(name, {key: value,\n                             guiEvent: simpleKeys(event)});\n    return false;\n}\n\nmpl.figure.prototype.toolbar_button_onclick = function(name) {\n    if (name == 'download') {\n        this.handle_save(this, null);\n    } else {\n        this.send_message(\"toolbar_button\", {name: name});\n    }\n};\n\nmpl.figure.prototype.toolbar_button_onmouseover = function(tooltip) {\n    this.message.textContent = tooltip;\n};\nmpl.toolbar_items = [[\"Home\", \"Reset original view\", \"fa fa-home icon-home\", \"home\"], [\"Back\", \"Back to previous view\", \"fa fa-arrow-left icon-arrow-left\", \"back\"], [\"Forward\", \"Forward to next view\", \"fa fa-arrow-right icon-arrow-right\", \"forward\"], [\"\", \"\", \"\", \"\"], [\"Pan\", \"Pan axes with left mouse, zoom with right\", \"fa fa-arrows icon-move\", \"pan\"], [\"Zoom\", \"Zoom to rectangle\", \"fa fa-square-o icon-check-empty\", \"zoom\"], [\"\", \"\", \"\", \"\"], [\"Download\", \"Download plot\", \"fa fa-floppy-o icon-save\", \"download\"]];\n\nmpl.extensions = [\"eps\", \"jpeg\", \"pdf\", \"png\", \"ps\", \"raw\", \"svg\", \"tif\"];\n\nmpl.default_extension = \"png\";var comm_websocket_adapter = function(comm) {\n    // Create a \"websocket\"-like object which calls the given IPython comm\n    // object with the appropriate methods. Currently this is a non binary\n    // socket, so there is still some room for performance tuning.\n    var ws = {};\n\n    ws.close = function() {\n        comm.close()\n    };\n    ws.send = function(m) {\n        //console.log('sending', m);\n        comm.send(m);\n    };\n    // Register the callback with on_msg.\n    comm.on_msg(function(msg) {\n        //console.log('receiving', msg['content']['data'], msg);\n        // Pass the mpl event to the overridden (by mpl) onmessage function.\n        ws.onmessage(msg['content']['data'])\n    });\n    return ws;\n}\n\nmpl.mpl_figure_comm = function(comm, msg) {\n    // This is the function which gets called when the mpl process\n    // starts-up an IPython Comm through the \"matplotlib\" channel.\n\n    var id = msg.content.data.id;\n    // Get hold of the div created by the display call when the Comm\n    // socket was opened in Python.\n    var element = $(\"#\" + id);\n    var ws_proxy = comm_websocket_adapter(comm)\n\n    function ondownload(figure, format) {\n        window.open(figure.imageObj.src);\n    }\n\n    var fig = new mpl.figure(id, ws_proxy,\n                           ondownload,\n                           element.get(0));\n\n    // Call onopen now - mpl needs it, as it is assuming we've passed it a real\n    // web socket which is closed, not our websocket->open comm proxy.\n    ws_proxy.onopen();\n\n    fig.parent_element = element.get(0);\n    fig.cell_info = mpl.find_output_cell(\"<div id='\" + id + \"'></div>\");\n    if (!fig.cell_info) {\n        console.error(\"Failed to find cell for figure\", id, fig);\n        return;\n    }\n\n    var output_index = fig.cell_info[2]\n    var cell = fig.cell_info[0];\n\n};\n\nmpl.figure.prototype.handle_close = function(fig, msg) {\n    var width = fig.canvas.width/mpl.ratio\n    fig.root.unbind('remove')\n\n    // Update the output cell to use the data from the current canvas.\n    fig.push_to_output();\n    var dataURL = fig.canvas.toDataURL();\n    // Re-enable the keyboard manager in IPython - without this line, in FF,\n    // the notebook keyboard shortcuts fail.\n    IPython.keyboard_manager.enable()\n    $(fig.parent_element).html('<img src=\"' + dataURL + '\" width=\"' + width + '\">');\n    fig.close_ws(fig, msg);\n}\n\nmpl.figure.prototype.close_ws = function(fig, msg){\n    fig.send_message('closing', msg);\n    // fig.ws.close()\n}\n\nmpl.figure.prototype.push_to_output = function(remove_interactive) {\n    // Turn the data on the canvas into data in the output cell.\n    var width = this.canvas.width/mpl.ratio\n    var dataURL = this.canvas.toDataURL();\n    this.cell_info[1]['text/html'] = '<img src=\"' + dataURL + '\" width=\"' + width + '\">';\n}\n\nmpl.figure.prototype.updated_canvas_event = function() {\n    // Tell IPython that the notebook contents must change.\n    IPython.notebook.set_dirty(true);\n    this.send_message(\"ack\", {});\n    var fig = this;\n    // Wait a second, then push the new image to the DOM so\n    // that it is saved nicely (might be nice to debounce this).\n    setTimeout(function () { fig.push_to_output() }, 1000);\n}\n\nmpl.figure.prototype._init_toolbar = function() {\n    var fig = this;\n\n    var nav_element = $('<div/>');\n    nav_element.attr('style', 'width: 100%');\n    this.root.append(nav_element);\n\n    // Define a callback function for later on.\n    function toolbar_event(event) {\n        return fig.toolbar_button_onclick(event['data']);\n    }\n    function toolbar_mouse_event(event) {\n        return fig.toolbar_button_onmouseover(event['data']);\n    }\n\n    for(var toolbar_ind in mpl.toolbar_items){\n        var name = mpl.toolbar_items[toolbar_ind][0];\n        var tooltip = mpl.toolbar_items[toolbar_ind][1];\n        var image = mpl.toolbar_items[toolbar_ind][2];\n        var method_name = mpl.toolbar_items[toolbar_ind][3];\n\n        if (!name) { continue; };\n\n        var button = $('<button class=\"btn btn-default\" href=\"#\" title=\"' + name + '\"><i class=\"fa ' + image + ' fa-lg\"></i></button>');\n        button.click(method_name, toolbar_event);\n        button.mouseover(tooltip, toolbar_mouse_event);\n        nav_element.append(button);\n    }\n\n    // Add the status bar.\n    var status_bar = $('<span class=\"mpl-message\" style=\"text-align:right; float: right;\"/>');\n    nav_element.append(status_bar);\n    this.message = status_bar[0];\n\n    // Add the close button to the window.\n    var buttongrp = $('<div class=\"btn-group inline pull-right\"></div>');\n    var button = $('<button class=\"btn btn-mini btn-primary\" href=\"#\" title=\"Stop Interaction\"><i class=\"fa fa-power-off icon-remove icon-large\"></i></button>');\n    button.click(function (evt) { fig.handle_close(fig, {}); } );\n    button.mouseover('Stop Interaction', toolbar_mouse_event);\n    buttongrp.append(button);\n    var titlebar = this.root.find($('.ui-dialog-titlebar'));\n    titlebar.prepend(buttongrp);\n}\n\nmpl.figure.prototype._root_extra_style = function(el){\n    var fig = this\n    el.on(\"remove\", function(){\n\tfig.close_ws(fig, {});\n    });\n}\n\nmpl.figure.prototype._canvas_extra_style = function(el){\n    // this is important to make the div 'focusable\n    el.attr('tabindex', 0)\n    // reach out to IPython and tell the keyboard manager to turn it's self\n    // off when our div gets focus\n\n    // location in version 3\n    if (IPython.notebook.keyboard_manager) {\n        IPython.notebook.keyboard_manager.register_events(el);\n    }\n    else {\n        // location in version 2\n        IPython.keyboard_manager.register_events(el);\n    }\n\n}\n\nmpl.figure.prototype._key_event_extra = function(event, name) {\n    var manager = IPython.notebook.keyboard_manager;\n    if (!manager)\n        manager = IPython.keyboard_manager;\n\n    // Check for shift+enter\n    if (event.shiftKey && event.which == 13) {\n        this.canvas_div.blur();\n        // select the cell after this one\n        var index = IPython.notebook.find_cell_index(this.cell_info[0]);\n        IPython.notebook.select(index + 1);\n    }\n}\n\nmpl.figure.prototype.handle_save = function(fig, msg) {\n    fig.ondownload(fig, null);\n}\n\n\nmpl.find_output_cell = function(html_output) {\n    // Return the cell and output element which can be found *uniquely* in the notebook.\n    // Note - this is a bit hacky, but it is done because the \"notebook_saving.Notebook\"\n    // IPython event is triggered only after the cells have been serialised, which for\n    // our purposes (turning an active figure into a static one), is too late.\n    var cells = IPython.notebook.get_cells();\n    var ncells = cells.length;\n    for (var i=0; i<ncells; i++) {\n        var cell = cells[i];\n        if (cell.cell_type === 'code'){\n            for (var j=0; j<cell.output_area.outputs.length; j++) {\n                var data = cell.output_area.outputs[j];\n                if (data.data) {\n                    // IPython >= 3 moved mimebundle to data attribute of output\n                    data = data.data;\n                }\n                if (data['text/html'] == html_output) {\n                    return [cell, data, j];\n                }\n            }\n        }\n    }\n}\n\n// Register the function which deals with the matplotlib target/channel.\n// The kernel may be null if the page has been refreshed.\nif (IPython.notebook.kernel != null) {\n    IPython.notebook.kernel.comm_manager.register_target('matplotlib', mpl.mpl_figure_comm);\n}\n",
      "text/plain": [
       "<IPython.core.display.Javascript object>"
      ]
     },
     "metadata": {},
     "output_type": "display_data"
    },
    {
     "data": {
      "text/html": [
       "<img src=\"data:image/png;base64,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\" width=\"798.8889100522176\">"
      ],
      "text/plain": [
       "<IPython.core.display.HTML object>"
      ]
     },
     "metadata": {},
     "output_type": "display_data"
    }
   ],
   "source": [
    "%matplotlib notebook\n",
    "from matplotlib import animation\n",
    "\n",
    "red = [177/255, 24/255, 42/255]\n",
    "darkblue = [4/255, 44/255, 88/255]\n",
    "blue = [31/255, 100/255, 169/255]\n",
    "lightblue = [65/255, 144/255, 194/255]\n",
    "\n",
    "fig = plt.figure(figsize=(8,3))\n",
    "fig.subplots_adjust(bottom = 0.2)\n",
    "ax = fig.add_subplot(111)\n",
    "ax.set_aspect('equal')\n",
    "\n",
    "pursuer1_pos_video = []\n",
    "pursuer2_pos_video = []\n",
    "evader_pos_video = []\n",
    "for j in range(num_episodes_test):\n",
    "    pursuer1_pos_video.extend(pursuer1_pos_list[j])\n",
    "    pursuer2_pos_video.extend(pursuer2_pos_list[j])\n",
    "    evader_pos_video.extend(evader_pos_list[j])\n",
    "\n",
    "def update_func(i):\n",
    "\n",
    "    ax.clear()\n",
    "    \n",
    "    ax.plot([-1, -1], [1, -1], color=\"black\")\n",
    "    ax.plot([1, 1], [1, -1], color=\"black\")\n",
    "    ax.plot([1, -1], [-1, -1], color=\"black\")\n",
    "    ax.plot([1, -1], [1, 1], color=\"black\")\n",
    "\n",
    "    offsets = [4, 3, 2, 1]\n",
    "    sizes = [0.5, 1, 2, 3]\n",
    "    alphas = [0.1, 0.2, 0.3, 0.4]\n",
    "    for offset, size, alpha in zip(offsets, sizes, alphas):\n",
    "        if i >= offset:\n",
    "            ax.plot(evader_pos_video[i-offset][0], evader_pos_video[i-offset][1], 'o', markersize=size, color=red, alpha=alpha)\n",
    "            ax.plot(pursuer1_pos_video[i-offset][0], pursuer1_pos_video[i-offset][1], 'o', markersize=size, color=darkblue, alpha=alpha)\n",
    "            ax.plot(pursuer2_pos_video[i-offset][0], pursuer2_pos_video[i-offset][1], 'o', markersize=size, color=blue, alpha=alpha)\n",
    "\n",
    "    ax.plot(evader_pos_video[i][0], evader_pos_video[i][1], 'o', markersize=4, color=red)\n",
    "    ax.plot(pursuer1_pos_video[i][0], pursuer1_pos_video[i][1], 'o', markersize=4, color=darkblue)\n",
    "    ax.plot(pursuer2_pos_video[i][0], pursuer2_pos_video[i][1], 'o', markersize=4, color=blue)\n",
    "    \n",
    "    ax.set_xlim(-1, 1)\n",
    "    ax.set_ylim(-1, 1)\n",
    "    ax.tick_params(labelbottom=False, labelleft=False, labelright=False, labeltop=False, bottom=False, left=False, right=False, top=False)\n",
    "    ax.set_xlabel(\"X-position\", fontsize=14)\n",
    "    ax.set_ylabel(\"Y-position\", fontsize=14)\n",
    "    ax.set_aspect('equal')\n",
    "    \n",
    "ani = animation.FuncAnimation(fig, update_func, frames=len(evader_pos_video), interval=100, repeat=False)\n",
    "plt.show()\n"
   ]
  },
  {
   "cell_type": "code",
   "execution_count": null,
   "metadata": {},
   "outputs": [],
   "source": []
  }
 ],
 "metadata": {
  "kernelspec": {
   "display_name": "Python 3",
   "language": "python",
   "name": "python3"
  },
  "language_info": {
   "codemirror_mode": {
    "name": "ipython",
    "version": 3
   },
   "file_extension": ".py",
   "mimetype": "text/x-python",
   "name": "python",
   "nbconvert_exporter": "python",
   "pygments_lexer": "ipython3",
   "version": "3.7.7"
  }
 },
 "nbformat": 4,
 "nbformat_minor": 4
}
