{
 "cells": [
  {
   "cell_type": "code",
   "execution_count": 1,
   "metadata": {},
   "outputs": [
    {
     "name": "stdout",
     "output_type": "stream",
     "text": [
      "cpu\n"
     ]
    }
   ],
   "source": [
    "import sys, os\n",
    "sys.path.append(os.pardir)\n",
    "import numpy as np\n",
    "import matplotlib.pyplot as plt\n",
    "import random\n",
    "import torch\n",
    "from torch import nn\n",
    "from common.network import DuelingNetwork\n",
    "from common.hparameter import *"
   ]
  },
  {
   "cell_type": "code",
   "execution_count": 2,
   "metadata": {},
   "outputs": [],
   "source": [
    "\"speed\"\n",
    "speed = \"slow\" # \"slow\", \"equal\" or \"fast\"\n",
    "\n",
    "\"reward\"\n",
    "reward_p = \"indiv\" # \"indiv\" or \"share\""
   ]
  },
  {
   "cell_type": "code",
   "execution_count": 3,
   "metadata": {},
   "outputs": [],
   "source": [
    "\"\"\" seed \"\"\"\n",
    "seed =0\n",
    "np.random.seed(seed)\n",
    "random.seed(seed)\n",
    "torch.manual_seed(seed)\n",
    "torch.cuda.manual_seed(seed)\n",
    "\n",
    "''' divice '''\n",
    "device = torch.device('cuda' if torch.cuda.is_available() else 'cpu')\n",
    "print(device)\n",
    "\n",
    "\"\"\" Network \"\"\"\n",
    "net_p1 = DuelingNetwork(26, 13).to(device)\n",
    "net_p2 = DuelingNetwork(26, 13).to(device)\n",
    "net_p3 = DuelingNetwork(26, 13).to(device)\n",
    "net_e = DuelingNetwork(26, 13).to(device)\n",
    "\n",
    "\"\"\" Environment \"\"\"\n",
    "env_dir = os.path.join(os.pardir, 'c3ae')\n",
    "sys.path.append(env_dir)\n",
    "from chase3_and_escape import Chase3AndEscape\n",
    "\n",
    "if speed == \"fast\":\n",
    "    speed_p = 3.6\n",
    "elif speed == \"equal\":\n",
    "    speed_p = 3.0\n",
    "elif speed == \"slow\":\n",
    "    speed_p = 2.4\n",
    "\n",
    "speed_e = 3\n",
    "max_step_episode = 300\n",
    "env = Chase3AndEscape(speed_pursuer1=speed_p, speed_pursuer2=speed_p, speed_pursuer3=speed_p, speed_evader=speed_e, max_step=max_step_episode, reward_share=True)\n",
    "\n",
    "\"\"\" Load \"\"\"\n",
    "net_p1.load_state_dict(torch.load(\"../model/c3ae/reward_\" + reward_p + \"/p1_\" +  str (speed_p) + \".pth\")) \n",
    "net_p2.load_state_dict(torch.load(\"../model/c3ae/reward_\" + reward_p + \"/p2_\" +  str (speed_p) + \".pth\")) \n",
    "net_p3.load_state_dict(torch.load(\"../model/c3ae/reward_\" + reward_p + \"/p3_\" +  str (speed_p) + \".pth\")) \n",
    "net_e.load_state_dict(torch.load(\"../model/c3ae/reward_\" + reward_p + \"/e_\" +  str (speed_p) + \".pth\")) \n",
    "\n",
    "\"\"\" No. of episodes \"\"\"\n",
    "num_episodes_test = 10"
   ]
  },
  {
   "cell_type": "code",
   "execution_count": 4,
   "metadata": {},
   "outputs": [],
   "source": [
    "pursuer1_pos_list = []\n",
    "pursuer2_pos_list = []\n",
    "pursuer3_pos_list = []\n",
    "evader_pos_list = []\n",
    "\n",
    "for episode in range(num_episodes_test):\n",
    "    \n",
    "    '''reset'''    \n",
    "    pursuer1_pos_episode = []\n",
    "    pursuer2_pos_episode = []\n",
    "    pursuer3_pos_episode = []\n",
    "    evader_pos_episode = []\n",
    "    obs_p1, obs_p2, obs_p3, obs_e = env.reset()\n",
    "    obs_p1, obs_p2, obs_p3, obs_e = torch.Tensor(obs_p1), torch.Tensor(obs_p2), torch.Tensor(obs_p3), torch.Tensor(obs_e)\n",
    "    done = False\n",
    "    step_episode = 0\n",
    "        \n",
    "    while not done:        \n",
    "\n",
    "        action_p1 = net_p1.act(obs_p1.float().to(device), 0)\n",
    "        action_p2 = net_p2.act(obs_p2.float().to(device), 0)\n",
    "        action_p3 = net_p3.act(obs_p3.float().to(device), 0)\n",
    "        action_e = net_e.act(obs_e.float().to(device), 0)\n",
    "        \n",
    "        next_obs_p1, next_obs_p2, next_obs_p3, next_obs_e, reward_p1, reward_p2, reward_p3, reward_e, done = env.step(action_p1, action_p2, action_p3, action_e, step_episode)\n",
    "        next_obs_p1, next_obs_p2, next_obs_p3, next_obs_e = torch.Tensor(next_obs_p1), torch.Tensor(next_obs_p2), torch.Tensor(next_obs_p3), torch.Tensor(next_obs_e)\n",
    "                \n",
    "        obs_p1 = next_obs_p1\n",
    "        obs_p2 = next_obs_p2\n",
    "        obs_p3 = next_obs_p3\n",
    "        obs_e = next_obs_e\n",
    "        \n",
    "        step_episode += 1        \n",
    "        pos_pursuer1 = env.pos_p1\n",
    "        pos_pursuer2 = env.pos_p2\n",
    "        pos_pursuer3 = env.pos_p3\n",
    "        pos_evader = env.pos_e\n",
    "        pursuer1_pos_episode.append(pos_pursuer1)\n",
    "        pursuer2_pos_episode.append(pos_pursuer2)\n",
    "        pursuer3_pos_episode.append(pos_pursuer3)\n",
    "        evader_pos_episode.append(pos_evader)\n",
    "    \n",
    "    pursuer1_pos_list.append(pursuer1_pos_episode)\n",
    "    pursuer2_pos_list.append(pursuer2_pos_episode)\n",
    "    pursuer3_pos_list.append(pursuer3_pos_episode)\n",
    "    evader_pos_list.append(evader_pos_episode)"
   ]
  },
  {
   "cell_type": "code",
   "execution_count": 5,
   "metadata": {},
   "outputs": [
    {
     "data": {
      "application/javascript": "/* Put everything inside the global mpl namespace */\nwindow.mpl = {};\n\n\nmpl.get_websocket_type = function() {\n    if (typeof(WebSocket) !== 'undefined') {\n        return WebSocket;\n    } else if (typeof(MozWebSocket) !== 'undefined') {\n        return MozWebSocket;\n    } else {\n        alert('Your browser does not have WebSocket support. ' +\n              'Please try Chrome, Safari or Firefox ≥ 6. ' +\n              'Firefox 4 and 5 are also supported but you ' +\n              'have to enable WebSockets in about:config.');\n    };\n}\n\nmpl.figure = function(figure_id, websocket, ondownload, parent_element) {\n    this.id = figure_id;\n\n    this.ws = websocket;\n\n    this.supports_binary = (this.ws.binaryType != undefined);\n\n    if (!this.supports_binary) {\n        var warnings = document.getElementById(\"mpl-warnings\");\n        if (warnings) {\n            warnings.style.display = 'block';\n            warnings.textContent = (\n                \"This browser does not support binary websocket messages. \" +\n                    \"Performance may be slow.\");\n        }\n    }\n\n    this.imageObj = new Image();\n\n    this.context = undefined;\n    this.message = undefined;\n    this.canvas = undefined;\n    this.rubberband_canvas = undefined;\n    this.rubberband_context = undefined;\n    this.format_dropdown = undefined;\n\n    this.image_mode = 'full';\n\n    this.root = $('<div/>');\n    this._root_extra_style(this.root)\n    this.root.attr('style', 'display: inline-block');\n\n    $(parent_element).append(this.root);\n\n    this._init_header(this);\n    this._init_canvas(this);\n    this._init_toolbar(this);\n\n    var fig = this;\n\n    this.waiting = false;\n\n    this.ws.onopen =  function () {\n            fig.send_message(\"supports_binary\", {value: fig.supports_binary});\n            fig.send_message(\"send_image_mode\", {});\n            if (mpl.ratio != 1) {\n                fig.send_message(\"set_dpi_ratio\", {'dpi_ratio': mpl.ratio});\n            }\n            fig.send_message(\"refresh\", {});\n        }\n\n    this.imageObj.onload = function() {\n            if (fig.image_mode == 'full') {\n                // Full images could contain transparency (where diff images\n                // almost always do), so we need to clear the canvas so that\n                // there is no ghosting.\n                fig.context.clearRect(0, 0, fig.canvas.width, fig.canvas.height);\n            }\n            fig.context.drawImage(fig.imageObj, 0, 0);\n        };\n\n    this.imageObj.onunload = function() {\n        fig.ws.close();\n    }\n\n    this.ws.onmessage = this._make_on_message_function(this);\n\n    this.ondownload = ondownload;\n}\n\nmpl.figure.prototype._init_header = function() {\n    var titlebar = $(\n        '<div class=\"ui-dialog-titlebar ui-widget-header ui-corner-all ' +\n        'ui-helper-clearfix\"/>');\n    var titletext = $(\n        '<div class=\"ui-dialog-title\" style=\"width: 100%; ' +\n        'text-align: center; padding: 3px;\"/>');\n    titlebar.append(titletext)\n    this.root.append(titlebar);\n    this.header = titletext[0];\n}\n\n\n\nmpl.figure.prototype._canvas_extra_style = function(canvas_div) {\n\n}\n\n\nmpl.figure.prototype._root_extra_style = function(canvas_div) {\n\n}\n\nmpl.figure.prototype._init_canvas = function() {\n    var fig = this;\n\n    var canvas_div = $('<div/>');\n\n    canvas_div.attr('style', 'position: relative; clear: both; outline: 0');\n\n    function canvas_keyboard_event(event) {\n        return fig.key_event(event, event['data']);\n    }\n\n    canvas_div.keydown('key_press', canvas_keyboard_event);\n    canvas_div.keyup('key_release', canvas_keyboard_event);\n    this.canvas_div = canvas_div\n    this._canvas_extra_style(canvas_div)\n    this.root.append(canvas_div);\n\n    var canvas = $('<canvas/>');\n    canvas.addClass('mpl-canvas');\n    canvas.attr('style', \"left: 0; top: 0; z-index: 0; outline: 0\")\n\n    this.canvas = canvas[0];\n    this.context = canvas[0].getContext(\"2d\");\n\n    var backingStore = this.context.backingStorePixelRatio ||\n\tthis.context.webkitBackingStorePixelRatio ||\n\tthis.context.mozBackingStorePixelRatio ||\n\tthis.context.msBackingStorePixelRatio ||\n\tthis.context.oBackingStorePixelRatio ||\n\tthis.context.backingStorePixelRatio || 1;\n\n    mpl.ratio = (window.devicePixelRatio || 1) / backingStore;\n\n    var rubberband = $('<canvas/>');\n    rubberband.attr('style', \"position: absolute; left: 0; top: 0; z-index: 1;\")\n\n    var pass_mouse_events = true;\n\n    canvas_div.resizable({\n        start: function(event, ui) {\n            pass_mouse_events = false;\n        },\n        resize: function(event, ui) {\n            fig.request_resize(ui.size.width, ui.size.height);\n        },\n        stop: function(event, ui) {\n            pass_mouse_events = true;\n            fig.request_resize(ui.size.width, ui.size.height);\n        },\n    });\n\n    function mouse_event_fn(event) {\n        if (pass_mouse_events)\n            return fig.mouse_event(event, event['data']);\n    }\n\n    rubberband.mousedown('button_press', mouse_event_fn);\n    rubberband.mouseup('button_release', mouse_event_fn);\n    // Throttle sequential mouse events to 1 every 20ms.\n    rubberband.mousemove('motion_notify', mouse_event_fn);\n\n    rubberband.mouseenter('figure_enter', mouse_event_fn);\n    rubberband.mouseleave('figure_leave', mouse_event_fn);\n\n    canvas_div.on(\"wheel\", function (event) {\n        event = event.originalEvent;\n        event['data'] = 'scroll'\n        if (event.deltaY < 0) {\n            event.step = 1;\n        } else {\n            event.step = -1;\n        }\n        mouse_event_fn(event);\n    });\n\n    canvas_div.append(canvas);\n    canvas_div.append(rubberband);\n\n    this.rubberband = rubberband;\n    this.rubberband_canvas = rubberband[0];\n    this.rubberband_context = rubberband[0].getContext(\"2d\");\n    this.rubberband_context.strokeStyle = \"#000000\";\n\n    this._resize_canvas = function(width, height) {\n        // Keep the size of the canvas, canvas container, and rubber band\n        // canvas in synch.\n        canvas_div.css('width', width)\n        canvas_div.css('height', height)\n\n        canvas.attr('width', width * mpl.ratio);\n        canvas.attr('height', height * mpl.ratio);\n        canvas.attr('style', 'width: ' + width + 'px; height: ' + height + 'px;');\n\n        rubberband.attr('width', width);\n        rubberband.attr('height', height);\n    }\n\n    // Set the figure to an initial 600x600px, this will subsequently be updated\n    // upon first draw.\n    this._resize_canvas(600, 600);\n\n    // Disable right mouse context menu.\n    $(this.rubberband_canvas).bind(\"contextmenu\",function(e){\n        return false;\n    });\n\n    function set_focus () {\n        canvas.focus();\n        canvas_div.focus();\n    }\n\n    window.setTimeout(set_focus, 100);\n}\n\nmpl.figure.prototype._init_toolbar = function() {\n    var fig = this;\n\n    var nav_element = $('<div/>');\n    nav_element.attr('style', 'width: 100%');\n    this.root.append(nav_element);\n\n    // Define a callback function for later on.\n    function toolbar_event(event) {\n        return fig.toolbar_button_onclick(event['data']);\n    }\n    function toolbar_mouse_event(event) {\n        return fig.toolbar_button_onmouseover(event['data']);\n    }\n\n    for(var toolbar_ind in mpl.toolbar_items) {\n        var name = mpl.toolbar_items[toolbar_ind][0];\n        var tooltip = mpl.toolbar_items[toolbar_ind][1];\n        var image = mpl.toolbar_items[toolbar_ind][2];\n        var method_name = mpl.toolbar_items[toolbar_ind][3];\n\n        if (!name) {\n            // put a spacer in here.\n            continue;\n        }\n        var button = $('<button/>');\n        button.addClass('ui-button ui-widget ui-state-default ui-corner-all ' +\n                        'ui-button-icon-only');\n        button.attr('role', 'button');\n        button.attr('aria-disabled', 'false');\n        button.click(method_name, toolbar_event);\n        button.mouseover(tooltip, toolbar_mouse_event);\n\n        var icon_img = $('<span/>');\n        icon_img.addClass('ui-button-icon-primary ui-icon');\n        icon_img.addClass(image);\n        icon_img.addClass('ui-corner-all');\n\n        var tooltip_span = $('<span/>');\n        tooltip_span.addClass('ui-button-text');\n        tooltip_span.html(tooltip);\n\n        button.append(icon_img);\n        button.append(tooltip_span);\n\n        nav_element.append(button);\n    }\n\n    var fmt_picker_span = $('<span/>');\n\n    var fmt_picker = $('<select/>');\n    fmt_picker.addClass('mpl-toolbar-option ui-widget ui-widget-content');\n    fmt_picker_span.append(fmt_picker);\n    nav_element.append(fmt_picker_span);\n    this.format_dropdown = fmt_picker[0];\n\n    for (var ind in mpl.extensions) {\n        var fmt = mpl.extensions[ind];\n        var option = $(\n            '<option/>', {selected: fmt === mpl.default_extension}).html(fmt);\n        fmt_picker.append(option);\n    }\n\n    // Add hover states to the ui-buttons\n    $( \".ui-button\" ).hover(\n        function() { $(this).addClass(\"ui-state-hover\");},\n        function() { $(this).removeClass(\"ui-state-hover\");}\n    );\n\n    var status_bar = $('<span class=\"mpl-message\"/>');\n    nav_element.append(status_bar);\n    this.message = status_bar[0];\n}\n\nmpl.figure.prototype.request_resize = function(x_pixels, y_pixels) {\n    // Request matplotlib to resize the figure. Matplotlib will then trigger a resize in the client,\n    // which will in turn request a refresh of the image.\n    this.send_message('resize', {'width': x_pixels, 'height': y_pixels});\n}\n\nmpl.figure.prototype.send_message = function(type, properties) {\n    properties['type'] = type;\n    properties['figure_id'] = this.id;\n    this.ws.send(JSON.stringify(properties));\n}\n\nmpl.figure.prototype.send_draw_message = function() {\n    if (!this.waiting) {\n        this.waiting = true;\n        this.ws.send(JSON.stringify({type: \"draw\", figure_id: this.id}));\n    }\n}\n\n\nmpl.figure.prototype.handle_save = function(fig, msg) {\n    var format_dropdown = fig.format_dropdown;\n    var format = format_dropdown.options[format_dropdown.selectedIndex].value;\n    fig.ondownload(fig, format);\n}\n\n\nmpl.figure.prototype.handle_resize = function(fig, msg) {\n    var size = msg['size'];\n    if (size[0] != fig.canvas.width || size[1] != fig.canvas.height) {\n        fig._resize_canvas(size[0], size[1]);\n        fig.send_message(\"refresh\", {});\n    };\n}\n\nmpl.figure.prototype.handle_rubberband = function(fig, msg) {\n    var x0 = msg['x0'] / mpl.ratio;\n    var y0 = (fig.canvas.height - msg['y0']) / mpl.ratio;\n    var x1 = msg['x1'] / mpl.ratio;\n    var y1 = (fig.canvas.height - msg['y1']) / mpl.ratio;\n    x0 = Math.floor(x0) + 0.5;\n    y0 = Math.floor(y0) + 0.5;\n    x1 = Math.floor(x1) + 0.5;\n    y1 = Math.floor(y1) + 0.5;\n    var min_x = Math.min(x0, x1);\n    var min_y = Math.min(y0, y1);\n    var width = Math.abs(x1 - x0);\n    var height = Math.abs(y1 - y0);\n\n    fig.rubberband_context.clearRect(\n        0, 0, fig.canvas.width / mpl.ratio, fig.canvas.height / mpl.ratio);\n\n    fig.rubberband_context.strokeRect(min_x, min_y, width, height);\n}\n\nmpl.figure.prototype.handle_figure_label = function(fig, msg) {\n    // Updates the figure title.\n    fig.header.textContent = msg['label'];\n}\n\nmpl.figure.prototype.handle_cursor = function(fig, msg) {\n    var cursor = msg['cursor'];\n    switch(cursor)\n    {\n    case 0:\n        cursor = 'pointer';\n        break;\n    case 1:\n        cursor = 'default';\n        break;\n    case 2:\n        cursor = 'crosshair';\n        break;\n    case 3:\n        cursor = 'move';\n        break;\n    }\n    fig.rubberband_canvas.style.cursor = cursor;\n}\n\nmpl.figure.prototype.handle_message = function(fig, msg) {\n    fig.message.textContent = msg['message'];\n}\n\nmpl.figure.prototype.handle_draw = function(fig, msg) {\n    // Request the server to send over a new figure.\n    fig.send_draw_message();\n}\n\nmpl.figure.prototype.handle_image_mode = function(fig, msg) {\n    fig.image_mode = msg['mode'];\n}\n\nmpl.figure.prototype.updated_canvas_event = function() {\n    // Called whenever the canvas gets updated.\n    this.send_message(\"ack\", {});\n}\n\n// A function to construct a web socket function for onmessage handling.\n// Called in the figure constructor.\nmpl.figure.prototype._make_on_message_function = function(fig) {\n    return function socket_on_message(evt) {\n        if (evt.data instanceof Blob) {\n            /* FIXME: We get \"Resource interpreted as Image but\n             * transferred with MIME type text/plain:\" errors on\n             * Chrome.  But how to set the MIME type?  It doesn't seem\n             * to be part of the websocket stream */\n            evt.data.type = \"image/png\";\n\n            /* Free the memory for the previous frames */\n            if (fig.imageObj.src) {\n                (window.URL || window.webkitURL).revokeObjectURL(\n                    fig.imageObj.src);\n            }\n\n            fig.imageObj.src = (window.URL || window.webkitURL).createObjectURL(\n                evt.data);\n            fig.updated_canvas_event();\n            fig.waiting = false;\n            return;\n        }\n        else if (typeof evt.data === 'string' && evt.data.slice(0, 21) == \"data:image/png;base64\") {\n            fig.imageObj.src = evt.data;\n            fig.updated_canvas_event();\n            fig.waiting = false;\n            return;\n        }\n\n        var msg = JSON.parse(evt.data);\n        var msg_type = msg['type'];\n\n        // Call the  \"handle_{type}\" callback, which takes\n        // the figure and JSON message as its only arguments.\n        try {\n            var callback = fig[\"handle_\" + msg_type];\n        } catch (e) {\n            console.log(\"No handler for the '\" + msg_type + \"' message type: \", msg);\n            return;\n        }\n\n        if (callback) {\n            try {\n                // console.log(\"Handling '\" + msg_type + \"' message: \", msg);\n                callback(fig, msg);\n            } catch (e) {\n                console.log(\"Exception inside the 'handler_\" + msg_type + \"' callback:\", e, e.stack, msg);\n            }\n        }\n    };\n}\n\n// from http://stackoverflow.com/questions/1114465/getting-mouse-location-in-canvas\nmpl.findpos = function(e) {\n    //this section is from http://www.quirksmode.org/js/events_properties.html\n    var targ;\n    if (!e)\n        e = window.event;\n    if (e.target)\n        targ = e.target;\n    else if (e.srcElement)\n        targ = e.srcElement;\n    if (targ.nodeType == 3) // defeat Safari bug\n        targ = targ.parentNode;\n\n    // jQuery normalizes the pageX and pageY\n    // pageX,Y are the mouse positions relative to the document\n    // offset() returns the position of the element relative to the document\n    var x = e.pageX - $(targ).offset().left;\n    var y = e.pageY - $(targ).offset().top;\n\n    return {\"x\": x, \"y\": y};\n};\n\n/*\n * return a copy of an object with only non-object keys\n * we need this to avoid circular references\n * http://stackoverflow.com/a/24161582/3208463\n */\nfunction simpleKeys (original) {\n  return Object.keys(original).reduce(function (obj, key) {\n    if (typeof original[key] !== 'object')\n        obj[key] = original[key]\n    return obj;\n  }, {});\n}\n\nmpl.figure.prototype.mouse_event = function(event, name) {\n    var canvas_pos = mpl.findpos(event)\n\n    if (name === 'button_press')\n    {\n        this.canvas.focus();\n        this.canvas_div.focus();\n    }\n\n    var x = canvas_pos.x * mpl.ratio;\n    var y = canvas_pos.y * mpl.ratio;\n\n    this.send_message(name, {x: x, y: y, button: event.button,\n                             step: event.step,\n                             guiEvent: simpleKeys(event)});\n\n    /* This prevents the web browser from automatically changing to\n     * the text insertion cursor when the button is pressed.  We want\n     * to control all of the cursor setting manually through the\n     * 'cursor' event from matplotlib */\n    event.preventDefault();\n    return false;\n}\n\nmpl.figure.prototype._key_event_extra = function(event, name) {\n    // Handle any extra behaviour associated with a key event\n}\n\nmpl.figure.prototype.key_event = function(event, name) {\n\n    // Prevent repeat events\n    if (name == 'key_press')\n    {\n        if (event.which === this._key)\n            return;\n        else\n            this._key = event.which;\n    }\n    if (name == 'key_release')\n        this._key = null;\n\n    var value = '';\n    if (event.ctrlKey && event.which != 17)\n        value += \"ctrl+\";\n    if (event.altKey && event.which != 18)\n        value += \"alt+\";\n    if (event.shiftKey && event.which != 16)\n        value += \"shift+\";\n\n    value += 'k';\n    value += event.which.toString();\n\n    this._key_event_extra(event, name);\n\n    this.send_message(name, {key: value,\n                             guiEvent: simpleKeys(event)});\n    return false;\n}\n\nmpl.figure.prototype.toolbar_button_onclick = function(name) {\n    if (name == 'download') {\n        this.handle_save(this, null);\n    } else {\n        this.send_message(\"toolbar_button\", {name: name});\n    }\n};\n\nmpl.figure.prototype.toolbar_button_onmouseover = function(tooltip) {\n    this.message.textContent = tooltip;\n};\nmpl.toolbar_items = [[\"Home\", \"Reset original view\", \"fa fa-home icon-home\", \"home\"], [\"Back\", \"Back to previous view\", \"fa fa-arrow-left icon-arrow-left\", \"back\"], [\"Forward\", \"Forward to next view\", \"fa fa-arrow-right icon-arrow-right\", \"forward\"], [\"\", \"\", \"\", \"\"], [\"Pan\", \"Pan axes with left mouse, zoom with right\", \"fa fa-arrows icon-move\", \"pan\"], [\"Zoom\", \"Zoom to rectangle\", \"fa fa-square-o icon-check-empty\", \"zoom\"], [\"\", \"\", \"\", \"\"], [\"Download\", \"Download plot\", \"fa fa-floppy-o icon-save\", \"download\"]];\n\nmpl.extensions = [\"eps\", \"jpeg\", \"pdf\", \"png\", \"ps\", \"raw\", \"svg\", \"tif\"];\n\nmpl.default_extension = \"png\";var comm_websocket_adapter = function(comm) {\n    // Create a \"websocket\"-like object which calls the given IPython comm\n    // object with the appropriate methods. Currently this is a non binary\n    // socket, so there is still some room for performance tuning.\n    var ws = {};\n\n    ws.close = function() {\n        comm.close()\n    };\n    ws.send = function(m) {\n        //console.log('sending', m);\n        comm.send(m);\n    };\n    // Register the callback with on_msg.\n    comm.on_msg(function(msg) {\n        //console.log('receiving', msg['content']['data'], msg);\n        // Pass the mpl event to the overridden (by mpl) onmessage function.\n        ws.onmessage(msg['content']['data'])\n    });\n    return ws;\n}\n\nmpl.mpl_figure_comm = function(comm, msg) {\n    // This is the function which gets called when the mpl process\n    // starts-up an IPython Comm through the \"matplotlib\" channel.\n\n    var id = msg.content.data.id;\n    // Get hold of the div created by the display call when the Comm\n    // socket was opened in Python.\n    var element = $(\"#\" + id);\n    var ws_proxy = comm_websocket_adapter(comm)\n\n    function ondownload(figure, format) {\n        window.open(figure.imageObj.src);\n    }\n\n    var fig = new mpl.figure(id, ws_proxy,\n                           ondownload,\n                           element.get(0));\n\n    // Call onopen now - mpl needs it, as it is assuming we've passed it a real\n    // web socket which is closed, not our websocket->open comm proxy.\n    ws_proxy.onopen();\n\n    fig.parent_element = element.get(0);\n    fig.cell_info = mpl.find_output_cell(\"<div id='\" + id + \"'></div>\");\n    if (!fig.cell_info) {\n        console.error(\"Failed to find cell for figure\", id, fig);\n        return;\n    }\n\n    var output_index = fig.cell_info[2]\n    var cell = fig.cell_info[0];\n\n};\n\nmpl.figure.prototype.handle_close = function(fig, msg) {\n    var width = fig.canvas.width/mpl.ratio\n    fig.root.unbind('remove')\n\n    // Update the output cell to use the data from the current canvas.\n    fig.push_to_output();\n    var dataURL = fig.canvas.toDataURL();\n    // Re-enable the keyboard manager in IPython - without this line, in FF,\n    // the notebook keyboard shortcuts fail.\n    IPython.keyboard_manager.enable()\n    $(fig.parent_element).html('<img src=\"' + dataURL + '\" width=\"' + width + '\">');\n    fig.close_ws(fig, msg);\n}\n\nmpl.figure.prototype.close_ws = function(fig, msg){\n    fig.send_message('closing', msg);\n    // fig.ws.close()\n}\n\nmpl.figure.prototype.push_to_output = function(remove_interactive) {\n    // Turn the data on the canvas into data in the output cell.\n    var width = this.canvas.width/mpl.ratio\n    var dataURL = this.canvas.toDataURL();\n    this.cell_info[1]['text/html'] = '<img src=\"' + dataURL + '\" width=\"' + width + '\">';\n}\n\nmpl.figure.prototype.updated_canvas_event = function() {\n    // Tell IPython that the notebook contents must change.\n    IPython.notebook.set_dirty(true);\n    this.send_message(\"ack\", {});\n    var fig = this;\n    // Wait a second, then push the new image to the DOM so\n    // that it is saved nicely (might be nice to debounce this).\n    setTimeout(function () { fig.push_to_output() }, 1000);\n}\n\nmpl.figure.prototype._init_toolbar = function() {\n    var fig = this;\n\n    var nav_element = $('<div/>');\n    nav_element.attr('style', 'width: 100%');\n    this.root.append(nav_element);\n\n    // Define a callback function for later on.\n    function toolbar_event(event) {\n        return fig.toolbar_button_onclick(event['data']);\n    }\n    function toolbar_mouse_event(event) {\n        return fig.toolbar_button_onmouseover(event['data']);\n    }\n\n    for(var toolbar_ind in mpl.toolbar_items){\n        var name = mpl.toolbar_items[toolbar_ind][0];\n        var tooltip = mpl.toolbar_items[toolbar_ind][1];\n        var image = mpl.toolbar_items[toolbar_ind][2];\n        var method_name = mpl.toolbar_items[toolbar_ind][3];\n\n        if (!name) { continue; };\n\n        var button = $('<button class=\"btn btn-default\" href=\"#\" title=\"' + name + '\"><i class=\"fa ' + image + ' fa-lg\"></i></button>');\n        button.click(method_name, toolbar_event);\n        button.mouseover(tooltip, toolbar_mouse_event);\n        nav_element.append(button);\n    }\n\n    // Add the status bar.\n    var status_bar = $('<span class=\"mpl-message\" style=\"text-align:right; float: right;\"/>');\n    nav_element.append(status_bar);\n    this.message = status_bar[0];\n\n    // Add the close button to the window.\n    var buttongrp = $('<div class=\"btn-group inline pull-right\"></div>');\n    var button = $('<button class=\"btn btn-mini btn-primary\" href=\"#\" title=\"Stop Interaction\"><i class=\"fa fa-power-off icon-remove icon-large\"></i></button>');\n    button.click(function (evt) { fig.handle_close(fig, {}); } );\n    button.mouseover('Stop Interaction', toolbar_mouse_event);\n    buttongrp.append(button);\n    var titlebar = this.root.find($('.ui-dialog-titlebar'));\n    titlebar.prepend(buttongrp);\n}\n\nmpl.figure.prototype._root_extra_style = function(el){\n    var fig = this\n    el.on(\"remove\", function(){\n\tfig.close_ws(fig, {});\n    });\n}\n\nmpl.figure.prototype._canvas_extra_style = function(el){\n    // this is important to make the div 'focusable\n    el.attr('tabindex', 0)\n    // reach out to IPython and tell the keyboard manager to turn it's self\n    // off when our div gets focus\n\n    // location in version 3\n    if (IPython.notebook.keyboard_manager) {\n        IPython.notebook.keyboard_manager.register_events(el);\n    }\n    else {\n        // location in version 2\n        IPython.keyboard_manager.register_events(el);\n    }\n\n}\n\nmpl.figure.prototype._key_event_extra = function(event, name) {\n    var manager = IPython.notebook.keyboard_manager;\n    if (!manager)\n        manager = IPython.keyboard_manager;\n\n    // Check for shift+enter\n    if (event.shiftKey && event.which == 13) {\n        this.canvas_div.blur();\n        // select the cell after this one\n        var index = IPython.notebook.find_cell_index(this.cell_info[0]);\n        IPython.notebook.select(index + 1);\n    }\n}\n\nmpl.figure.prototype.handle_save = function(fig, msg) {\n    fig.ondownload(fig, null);\n}\n\n\nmpl.find_output_cell = function(html_output) {\n    // Return the cell and output element which can be found *uniquely* in the notebook.\n    // Note - this is a bit hacky, but it is done because the \"notebook_saving.Notebook\"\n    // IPython event is triggered only after the cells have been serialised, which for\n    // our purposes (turning an active figure into a static one), is too late.\n    var cells = IPython.notebook.get_cells();\n    var ncells = cells.length;\n    for (var i=0; i<ncells; i++) {\n        var cell = cells[i];\n        if (cell.cell_type === 'code'){\n            for (var j=0; j<cell.output_area.outputs.length; j++) {\n                var data = cell.output_area.outputs[j];\n                if (data.data) {\n                    // IPython >= 3 moved mimebundle to data attribute of output\n                    data = data.data;\n                }\n                if (data['text/html'] == html_output) {\n                    return [cell, data, j];\n                }\n            }\n        }\n    }\n}\n\n// Register the function which deals with the matplotlib target/channel.\n// The kernel may be null if the page has been refreshed.\nif (IPython.notebook.kernel != null) {\n    IPython.notebook.kernel.comm_manager.register_target('matplotlib', mpl.mpl_figure_comm);\n}\n",
      "text/plain": [
       "<IPython.core.display.Javascript object>"
      ]
     },
     "metadata": {},
     "output_type": "display_data"
    },
    {
     "data": {
      "text/html": [
       "<img src=\"data:image/png;base64,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\" width=\"798.8889100522176\">"
      ],
      "text/plain": [
       "<IPython.core.display.HTML object>"
      ]
     },
     "metadata": {},
     "output_type": "display_data"
    }
   ],
   "source": [
    "%matplotlib notebook\n",
    "from matplotlib import animation\n",
    "\n",
    "red = [177/255, 24/255, 42/255]\n",
    "darkblue = [4/255, 44/255, 88/255]\n",
    "blue = [31/255, 100/255, 169/255]\n",
    "lightblue = [65/255, 144/255, 194/255]\n",
    "\n",
    "fig = plt.figure(figsize=(8,3))\n",
    "fig.subplots_adjust(bottom = 0.2)\n",
    "ax = fig.add_subplot(111)\n",
    "ax.set_aspect('equal')\n",
    "\n",
    "pursuer1_pos_video = []\n",
    "pursuer2_pos_video = []\n",
    "pursuer3_pos_video = []\n",
    "evader_pos_video = []\n",
    "for j in range(num_episodes_test):\n",
    "    pursuer1_pos_video.extend(pursuer1_pos_list[j])\n",
    "    pursuer2_pos_video.extend(pursuer2_pos_list[j])\n",
    "    pursuer3_pos_video.extend(pursuer3_pos_list[j])\n",
    "    evader_pos_video.extend(evader_pos_list[j])\n",
    "\n",
    "def update_func(i):\n",
    "\n",
    "    ax.clear()\n",
    "    \n",
    "    ax.plot([-1, -1], [1, -1], color=\"black\")\n",
    "    ax.plot([1, 1], [1, -1], color=\"black\")\n",
    "    ax.plot([1, -1], [-1, -1], color=\"black\")\n",
    "    ax.plot([1, -1], [1, 1], color=\"black\")\n",
    "\n",
    "    offsets = [4, 3, 2, 1]\n",
    "    sizes = [0.5, 1, 2, 3]\n",
    "    alphas = [0.1, 0.2, 0.3, 0.4]\n",
    "    for offset, size, alpha in zip(offsets, sizes, alphas):\n",
    "        if i >= offset:\n",
    "            ax.plot(evader_pos_video[i-offset][0], evader_pos_video[i-offset][1], 'o', markersize=size, color=red, alpha=alpha)\n",
    "            ax.plot(pursuer1_pos_video[i-offset][0], pursuer1_pos_video[i-offset][1], 'o', markersize=size, color=darkblue, alpha=alpha)\n",
    "            ax.plot(pursuer2_pos_video[i-offset][0], pursuer2_pos_video[i-offset][1], 'o', markersize=size, color=blue, alpha=alpha)\n",
    "            ax.plot(pursuer3_pos_video[i-offset][0], pursuer3_pos_video[i-offset][1], 'o', markersize=size, color=lightblue, alpha=alpha)\n",
    "\n",
    "    ax.plot(evader_pos_video[i][0], evader_pos_video[i][1], 'o', markersize=4, color=red)\n",
    "    ax.plot(pursuer1_pos_video[i][0], pursuer1_pos_video[i][1], 'o', markersize=4, color=darkblue)\n",
    "    ax.plot(pursuer2_pos_video[i][0], pursuer2_pos_video[i][1], 'o', markersize=4, color=blue)\n",
    "    ax.plot(pursuer3_pos_video[i][0], pursuer3_pos_video[i][1], 'o', markersize=4, color=lightblue)\n",
    "    \n",
    "    ax.set_xlim(-1, 1)\n",
    "    ax.set_ylim(-1, 1)\n",
    "    ax.tick_params(labelbottom=False, labelleft=False, labelright=False, labeltop=False, bottom=False, left=False, right=False, top=False)\n",
    "    ax.set_xlabel(\"X-position\", fontsize=14)\n",
    "    ax.set_ylabel(\"Y-position\", fontsize=14)\n",
    "    ax.set_aspect('equal')\n",
    "    \n",
    "ani = animation.FuncAnimation(fig, update_func, frames=len(evader_pos_video), interval=100, repeat=False)\n",
    "plt.show()"
   ]
  },
  {
   "cell_type": "code",
   "execution_count": null,
   "metadata": {},
   "outputs": [],
   "source": []
  }
 ],
 "metadata": {
  "kernelspec": {
   "display_name": "Python 3",
   "language": "python",
   "name": "python3"
  },
  "language_info": {
   "codemirror_mode": {
    "name": "ipython",
    "version": 3
   },
   "file_extension": ".py",
   "mimetype": "text/x-python",
   "name": "python",
   "nbconvert_exporter": "python",
   "pygments_lexer": "ipython3",
   "version": "3.7.7"
  }
 },
 "nbformat": 4,
 "nbformat_minor": 4
}
