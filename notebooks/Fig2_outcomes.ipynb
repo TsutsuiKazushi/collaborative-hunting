{
 "cells": [
  {
   "cell_type": "code",
   "execution_count": 1,
   "metadata": {},
   "outputs": [],
   "source": [
    "import sys, os\n",
    "sys.path.append(os.pardir)\n",
    "import numpy as np\n",
    "import matplotlib.pyplot as plt\n",
    "from common.util import *"
   ]
  },
  {
   "cell_type": "code",
   "execution_count": 2,
   "metadata": {},
   "outputs": [],
   "source": [
    "\"\"\" seed \"\"\"\n",
    "seeds = [1, 2, 3, 4, 5, 6, 7, 8, 9, 10]\n",
    "\n",
    "\"\"\" participant \"\"\"\n",
    "name = \"self_play\"\n",
    "\n",
    "\"\"\" policy \"\"\"\n",
    "name_policy = \"greedy\"\n",
    "\n",
    "\"\"\" condition \"\"\"\n",
    "conds = [\"1on1\", \"2on1\", \"2on1\", \"3on1\", \"3on1\"] \n",
    "\n",
    "\"\"\" speed \"\"\"\n",
    "speed = \"slow\" # \"slow\", \"equal\" or \"fast\"\n",
    "\n",
    "\"\"\" reward \"\"\"\n",
    "rewards = [\"indiv\", \"indiv\", \"share\", \"indiv\", \"share\"]\n"
   ]
  },
  {
   "cell_type": "code",
   "execution_count": 3,
   "metadata": {},
   "outputs": [],
   "source": [
    "all_outcomes = []\n",
    "all_durations = []\n",
    "for num in range(len(conds)):\n",
    "    \n",
    "    cond = conds[num]\n",
    "    reward_p = rewards[num]\n",
    "        \n",
    "    seed_outcomes = []\n",
    "    seed_durations = [] \n",
    "\n",
    "    \"\"\" seed \"\"\"\n",
    "    for seed in seeds:\n",
    "\n",
    "        if cond == \"1on1\":\n",
    "            rep = np.load(\"self_play_results/results_1on1_\" + name + \"_\" +  speed + \"_\" + name_policy + \"_seed_\" + str(seed) + \".npz\", allow_pickle=True)\n",
    "        elif cond == \"2on1\":\n",
    "            rep = np.load(\"self_play_results/results_2on1_\" + name + \"_\" + reward_p + \"_\" +  speed + \"_\" + name_policy + \"_seed_\" + str(seed) + \".npz\", allow_pickle=True)\n",
    "        elif cond == \"3on1\":\n",
    "            rep = np.load(\"self_play_results/results_3on1_\" + name + \"_\" + reward_p + \"_\" +  speed + \"_\" + name_policy + \"_seed_\" + str(seed) + \".npz\", allow_pickle=True)\n",
    "        \n",
    "        pos_list = np.array(rep[\"pos\"]).squeeze()\n",
    "        val_list = np.array(rep[\"q\"]).squeeze()\n",
    "        vrep_list = np.array(rep[\"rep_v\"]).squeeze()\n",
    "        arep_list = np.array(rep[\"rep_a\"]).squeeze()\n",
    "\n",
    "        outcomes = []\n",
    "        durations = []\n",
    "\n",
    "        outcome = 100\n",
    "        epis = 100\n",
    "        for epi in range(epis):\n",
    "\n",
    "            pos_e = np.array(pos_list[epi][0])\n",
    "            pos_p1 = np.array(pos_list[epi][1])\n",
    "\n",
    "            if cond == \"1on1\":\n",
    "                dist1 = get_dist(pos_e[-1], pos_p1[-1])\n",
    "\n",
    "                if dist1 <= 0.1:\n",
    "                    outcome -= 1  \n",
    "                elif pos_e[-1 ,0] < -1 or pos_e[-1 ,0] > 1 or pos_e[-1 ,1] < -1 or pos_e[-1 ,1] > 1:\n",
    "                    outcome -= 1\n",
    "\n",
    "            if cond == \"2on1\":\n",
    "\n",
    "                pos_p2 = np.array(pos_list[epi][2])\n",
    "                dist1 = get_dist(pos_e[-1], pos_p1[-1])\n",
    "                dist2 = get_dist(pos_e[-1], pos_p2[-1])\n",
    "\n",
    "                if dist1 <= 0.1 or dist2 <= 0.1:\n",
    "                    outcome -= 1\n",
    "                elif pos_e[-1 ,0] < -1 or pos_e[-1 ,0] > 1 or pos_e[-1 ,1] < -1 or pos_e[-1 ,1] > 1:\n",
    "                    outcome -= 1\n",
    "\n",
    "            if cond == \"3on1\":\n",
    "\n",
    "                pos_p2 = np.array(pos_list[epi][2])\n",
    "                pos_p3 = np.array(pos_list[epi][3])\n",
    "                dist1 = get_dist(pos_e[-1], pos_p1[-1])\n",
    "                dist2 = get_dist(pos_e[-1], pos_p2[-1])\n",
    "                dist3 = get_dist(pos_e[-1], pos_p3[-1])\n",
    "\n",
    "                if dist1 <= 0.1 or dist2 <= 0.1 or dist3 <= 0.1:\n",
    "                    outcome -= 1\n",
    "                elif pos_e[-1 ,0] < -1 or pos_e[-1 ,0] > 1 or pos_e[-1 ,1] < -1 or pos_e[-1 ,1] > 1:\n",
    "                    outcome -= 1             \n",
    "\n",
    "            duration = len(np.array(pos_list[epi][0]))\n",
    "            durations.append(duration)\n",
    "\n",
    "        outcomes = (100 - outcome)/100\n",
    "        mean_durations = np.array(durations).mean()/10\n",
    "        seed_outcomes.append(outcomes)\n",
    "        seed_durations.append(mean_durations)\n",
    "        \n",
    "    all_outcomes.append(seed_outcomes)\n",
    "    all_durations.append(seed_durations)"
   ]
  },
  {
   "cell_type": "code",
   "execution_count": 4,
   "metadata": {},
   "outputs": [
    {
     "name": "stdout",
     "output_type": "stream",
     "text": [
      "mean outcomes [0.152 0.273 0.642 0.869 0.895]\n",
      "s.e.m outcomes [0.01017841 0.0182784  0.01309962 0.01388884 0.00790569]\n",
      "mean theory [0.152     0.27986   0.3875924]\n",
      "s.e.m theory [0.01017841 0.01698857 0.02129531]\n"
     ]
    },
    {
     "data": {
      "image/png": "[encoded data removed]",
      "text/plain": [
       "<Figure size 216x216 with 1 Axes>"
      ]
     },
     "metadata": {
      "needs_background": "light"
     },
     "output_type": "display_data"
    }
   ],
   "source": [
    "fig = plt.figure(figsize=(3,3))\n",
    "ax = fig.add_subplot(111)\n",
    "\n",
    "purple = [137/255, 129/255, 194/255]\n",
    "pink = [196/255, 144/255, 199/255]\n",
    "gray = [200/255, 200/255, 200/255]\n",
    "\n",
    "marker_purple = {\n",
    "    \"markersize\": 8,\n",
    "    \"markeredgewidth\": 3.0,\n",
    "    \"markeredgecolor\": purple,\n",
    "    \"markerfacecolor\": \"white\",\n",
    "    \"color\": purple,\n",
    "    \"linewidth\": 3,\n",
    "    \"alpha\": 1\n",
    "}\n",
    "\n",
    "marker_pink = {\n",
    "    \"markersize\": 8,\n",
    "    \"markeredgewidth\": 3.0,\n",
    "    \"markeredgecolor\": pink,\n",
    "    \"markerfacecolor\": \"white\",\n",
    "    \"color\": pink,\n",
    "    \"linewidth\": 3,\n",
    "    \"alpha\": 1\n",
    "}\n",
    "\n",
    "marker_gray = {\n",
    "    \"markersize\": 8,\n",
    "    \"markeredgewidth\": 3.0,\n",
    "    \"markeredgecolor\": gray,\n",
    "    \"markerfacecolor\": \"white\",\n",
    "    \"color\": gray,\n",
    "    \"linewidth\": 3,\n",
    "    \"alpha\": 1\n",
    "}\n",
    "\n",
    "\n",
    "all_theories = []\n",
    "for i in range(len(seeds)):\n",
    "    outcome = all_outcomes[0][i]\n",
    "    theory= np.array([outcome, 1-(1-outcome)**2, 1-(1-outcome)**3])\n",
    "    all_theories.append(theory)\n",
    "\n",
    "mean_o = np.array(all_outcomes).mean(1)\n",
    "se_o = np.array(all_outcomes).std(1)/np.sqrt(10)\n",
    "mean_t = np.array(all_theories).mean(0)\n",
    "se_t = np.array(all_theories).std(0)/np.sqrt(10)\n",
    "\n",
    "print(\"mean outcomes\", mean_o)\n",
    "print(\"s.e.m outcomes\", se_o)\n",
    "\n",
    "print(\"mean theory\", mean_t)\n",
    "print(\"s.e.m theory\", se_t)\n",
    "\n",
    "xs = range(3)\n",
    "mean_prop_indiv = [mean_o[0], mean_o[1], mean_o[3]]\n",
    "mean_prop_share = [mean_o[0], mean_o[2], mean_o[4]]\n",
    "\n",
    "se_prop_indiv = [se_o[0], se_o[1], se_o[3]]\n",
    "se_prop_share = [se_o[0], se_o[2], se_o[4]]\n",
    "\n",
    "ax.fill_between(xs, np.array(mean_t) - np.array(se_t), np.array(mean_t) + np.array(se_t), color=gray, alpha=0.2)\n",
    "ax.fill_between(xs, np.array(mean_prop_share) - np.array(se_prop_share), np.array(mean_prop_share) + np.array(se_prop_share), color=pink, alpha=0.2)\n",
    "ax.fill_between(xs, np.array(mean_prop_indiv) - np.array(se_prop_indiv), np.array(mean_prop_indiv) + np.array(se_prop_indiv), color=purple, alpha=0.2)\n",
    "\n",
    "plt.plot(xs, mean_t, 'o-', **marker_gray)\n",
    "plt.plot(xs, mean_prop_share, 'o-', **marker_pink)\n",
    "plt.plot(xs, mean_prop_indiv, 'o-', **marker_purple)\n",
    "\n",
    "ax.set_xlim(-0.5, 2.5)\n",
    "ax.set_ylim(0, 1)\n",
    "ax.set_xlabel(\"No. of predators\", fontsize=16)\n",
    "ax.set_ylabel(\"Proportion of\\nsuccessful predation\", fontsize=16)\n",
    "[ax.spines[side].set_visible(False) for side in ['right', 'top']];"
   ]
  },
  {
   "cell_type": "code",
   "execution_count": 5,
   "metadata": {},
   "outputs": [
    {
     "name": "stdout",
     "output_type": "stream",
     "text": [
      "mean durations [27.576  24.1746 18.0134  7.7783  8.2409]\n",
      "s.e.m durations [0.06655587 0.13961252 0.12580313 0.12505703 0.07273862]\n"
     ]
    },
    {
     "data": {
      "image/png": "[encoded data removed]",
      "text/plain": [
       "<Figure size 216x216 with 1 Axes>"
      ]
     },
     "metadata": {
      "needs_background": "light"
     },
     "output_type": "display_data"
    }
   ],
   "source": [
    "fig = plt.figure(figsize=(3,3))\n",
    "ax = fig.add_subplot(111)\n",
    "\n",
    "mean_d = np.array(all_durations).mean(1)\n",
    "se_d = np.array(all_durations).std(1)/np.sqrt(100)\n",
    "\n",
    "print(\"mean durations\", mean_d)\n",
    "print(\"s.e.m durations\", se_d)\n",
    "\n",
    "xs = range(3)\n",
    "mean_duration_indiv = [mean_d[0], mean_d[1], mean_d[3]]\n",
    "mean_duration_share = [mean_d[0], mean_d[2], mean_d[4]]\n",
    "\n",
    "se_duration_indiv = [se_d[0], se_d[1], se_d[3]]\n",
    "se_duration_share = [se_d[0], se_d[2], se_d[4]]\n",
    "\n",
    "ax.fill_between(xs, np.array(mean_duration_share) - np.array(se_duration_share), np.array(mean_duration_share) + np.array(se_duration_share), color=pink, alpha=0.2)\n",
    "ax.fill_between(xs, np.array(mean_duration_indiv) - np.array(se_duration_indiv), np.array(mean_duration_indiv) + np.array(se_duration_indiv), color=purple, alpha=0.2)\n",
    "\n",
    "plt.plot(xs, mean_duration_share, \"o-\", **marker_pink)\n",
    "plt.plot(xs, mean_duration_indiv, \"o-\", **marker_purple)\n",
    "\n",
    "ax.set_xlim(-0.5, 2.5)\n",
    "ax.set_ylim(0, 30)\n",
    "ax.set_xlabel(\"No. of predators\", fontsize=16)\n",
    "ax.set_ylabel(\"Mean duration (s)\", fontsize=16)\n",
    "[ax.spines[side].set_visible(False) for side in ['right', 'top']];"
   ]
  },
  {
   "cell_type": "code",
   "execution_count": null,
   "metadata": {},
   "outputs": [],
   "source": []
  }
 ],
 "metadata": {
  "kernelspec": {
   "display_name": "Python 3",
   "language": "python",
   "name": "python3"
  },
  "language_info": {
   "codemirror_mode": {
    "name": "ipython",
    "version": 3
   },
   "file_extension": ".py",
   "mimetype": "text/x-python",
   "name": "python",
   "nbconvert_exporter": "python",
   "pygments_lexer": "ipython3",
   "version": "3.7.7"
  }
 },
 "nbformat": 4,
 "nbformat_minor": 2
}
